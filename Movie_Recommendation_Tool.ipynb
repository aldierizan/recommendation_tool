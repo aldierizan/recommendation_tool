{
  "nbformat": 4,
  "nbformat_minor": 0,
  "metadata": {
    "colab": {
      "provenance": []
    },
    "kernelspec": {
      "name": "python3",
      "display_name": "Python 3"
    },
    "language_info": {
      "name": "python"
    }
  },
  "cells": [
    {
      "cell_type": "markdown",
      "source": [
        "Import Module"
      ],
      "metadata": {
        "id": "1angkGFIGVk2"
      }
    },
    {
      "cell_type": "code",
      "execution_count": null,
      "metadata": {
        "id": "0w9caNb1v7Js"
      },
      "outputs": [],
      "source": [
        "import numpy as np\n",
        "import pandas as pd\n",
        "import difflib\n",
        "!pip install -U pandasql\n",
        "from pandasql import sqldf\n",
        "from sklearn import datasets\n",
        "from sklearn.feature_extraction.text import TfidfVectorizer\n",
        "from sklearn.metrics.pairwise import cosine_similarity\n",
        "from google.colab import drive \n",
        "drive.mount('/content/gdrive')"
      ]
    },
    {
      "cell_type": "markdown",
      "source": [
        "Import Data from Google Drive"
      ],
      "metadata": {
        "id": "VmAWNgHTGwYJ"
      }
    },
    {
      "cell_type": "code",
      "source": [
        "movies_data = pd.read_csv('/content/gdrive/My Drive/Recommendation System/vidio_play.csv', error_bad_lines=False)"
      ],
      "metadata": {
        "id": "P-2Hykx-2Sgl"
      },
      "execution_count": null,
      "outputs": []
    },
    {
      "cell_type": "markdown",
      "source": [
        "Showing the First 5 Rows of the Data"
      ],
      "metadata": {
        "id": "vBvl2X8BG2No"
      }
    },
    {
      "cell_type": "code",
      "source": [
        "movies_data.head()"
      ],
      "metadata": {
        "colab": {
          "base_uri": "https://localhost:8080/",
          "height": 786
        },
        "id": "8oriwf3Q4HWG",
        "outputId": "4b42d1fe-944f-4aba-fa03-7b78a4f9646b"
      },
      "execution_count": 456,
      "outputs": [
        {
          "output_type": "execute_result",
          "data": {
            "text/plain": [
              "                                     hash_content_id  \\\n",
              "0  0096dafb1049ee942e8e7cbad5abf4a46dc92e3995caac...   \n",
              "1  01ddda2f8667719625bd0afa58537fd95a166c93233b8b...   \n",
              "2  01ddda2f8667719625bd0afa58537fd95a166c93233b8b...   \n",
              "3  01e34cb2658d0461f220bda493cb38427eef7de1e23e6e...   \n",
              "4  01e34cb2658d0461f220bda493cb38427eef7de1e23e6e...   \n",
              "\n",
              "                                        hash_play_id  \\\n",
              "0  0162f124f5bd61592d9bca6aaa3b1b6097a00b62ef33c9...   \n",
              "1  5f6c722782c919a9cb6254e94086462a6c34794dc741b6...   \n",
              "2  66c32aa6aa6a63f7d85d1bd1b8b6b295477c88794888d8...   \n",
              "3  38976454aec1c7ff4ca0a35df8821db29227443352e705...   \n",
              "4  4b4ee4aa4c37519250aa6efbd78e789b40d976474a1c37...   \n",
              "\n",
              "                                       hash_visit_id  \\\n",
              "0  27dfffe2bb74f8767caeb64ac4c92e9eaf4b11a28ef7e1...   \n",
              "1  90b2b454e70a2c13cf9e8ca987d7c4f914c7d819532c5d...   \n",
              "2  f79cab25855841a83e6aa01eccbf3d167491a868977b77...   \n",
              "3  f23800acfeede429803cb2a1380ca7652067fb35d079a8...   \n",
              "4  b058895b6fce58bcfbd72bfd7a3dfa4ae01d094e21c976...   \n",
              "\n",
              "                                     hash_watcher_id hash_film_id  \\\n",
              "0  e7c2138fd9d4047356066a01de46fc22ee9955a6fd6679...          NaN   \n",
              "1  d265ea2b8df584c51de3b2c6aebb6a0415384a18d1a148...          NaN   \n",
              "2  d2585a4b468b7cdbebc053ffc5b49cebd58d6e738bccdd...          NaN   \n",
              "3  bba3183af4f6c29d97dce6ee557561e3feef31d19ae9ab...          NaN   \n",
              "4  317ecdb779c3ba5bdc1818405aaafebcef35e9582c42e5...          NaN   \n",
              "\n",
              "                                       hash_event_id  is_login  \\\n",
              "0  c81bd64a212d3b5cb227499a6b4a3dc607748ae5133e48...     False   \n",
              "1  90a514e451e400c4c32ac42815920a66c500c1c2ea347d...     False   \n",
              "2  c278001db02102ece22d428b9235332856cba4754b63a0...     False   \n",
              "3  ed0731e9861306e6e26cf3cfb5a43da6b0e19af3ff3ff5...     False   \n",
              "4  3679f65950032d6bff1323df5b29292adad99918d616ae...     False   \n",
              "\n",
              "  playback_location     platform                 play_time  ... app_version  \\\n",
              "0             embed   web-mobile  2020-02-02T10:21:20.000Z  ...         NaN   \n",
              "1             embed   web-mobile  2020-02-02T12:17:33.000Z  ...         NaN   \n",
              "2             embed   web-mobile  2020-02-02T01:26:42.000Z  ...         NaN   \n",
              "3             embed   web-mobile  2020-02-02T13:45:05.000Z  ...         NaN   \n",
              "4             embed  web-desktop  2020-02-02T13:23:40.000Z  ...         NaN   \n",
              "\n",
              "  city  play_duration content_type  stream_type  \\\n",
              "0  NaN              0          vod          NaN   \n",
              "1  NaN             19          vod          NaN   \n",
              "2  NaN             24          vod          NaN   \n",
              "3  NaN              0          vod          NaN   \n",
              "4  NaN              4          vod          NaN   \n",
              "\n",
              "                                               title category_name film_title  \\\n",
              "0  Kiprah Eks Pemain Juventus yang Dikaitkan deng...        Sports        NaN   \n",
              "1  Pindah ke Inter Milan, Christian Eriksen Jadi ...        Sports        NaN   \n",
              "2  Pindah ke Inter Milan, Christian Eriksen Jadi ...        Sports        NaN   \n",
              "3     5 Kelebihan Mikel Arteta Menurut Pep Guardiola        Sports        NaN   \n",
              "4     5 Kelebihan Mikel Arteta Menurut Pep Guardiola        Sports        NaN   \n",
              "\n",
              "  season_name genre_name  \n",
              "0         NaN        NaN  \n",
              "1         NaN        NaN  \n",
              "2         NaN        NaN  \n",
              "3         NaN        NaN  \n",
              "4         NaN        NaN  \n",
              "\n",
              "[5 rows x 41 columns]"
            ],
            "text/html": [
              "\n",
              "  <div id=\"df-1a3053d8-3183-4133-88d9-5f926d9b7faf\">\n",
              "    <div class=\"colab-df-container\">\n",
              "      <div>\n",
              "<style scoped>\n",
              "    .dataframe tbody tr th:only-of-type {\n",
              "        vertical-align: middle;\n",
              "    }\n",
              "\n",
              "    .dataframe tbody tr th {\n",
              "        vertical-align: top;\n",
              "    }\n",
              "\n",
              "    .dataframe thead th {\n",
              "        text-align: right;\n",
              "    }\n",
              "</style>\n",
              "<table border=\"1\" class=\"dataframe\">\n",
              "  <thead>\n",
              "    <tr style=\"text-align: right;\">\n",
              "      <th></th>\n",
              "      <th>hash_content_id</th>\n",
              "      <th>hash_play_id</th>\n",
              "      <th>hash_visit_id</th>\n",
              "      <th>hash_watcher_id</th>\n",
              "      <th>hash_film_id</th>\n",
              "      <th>hash_event_id</th>\n",
              "      <th>is_login</th>\n",
              "      <th>playback_location</th>\n",
              "      <th>platform</th>\n",
              "      <th>play_time</th>\n",
              "      <th>...</th>\n",
              "      <th>app_version</th>\n",
              "      <th>city</th>\n",
              "      <th>play_duration</th>\n",
              "      <th>content_type</th>\n",
              "      <th>stream_type</th>\n",
              "      <th>title</th>\n",
              "      <th>category_name</th>\n",
              "      <th>film_title</th>\n",
              "      <th>season_name</th>\n",
              "      <th>genre_name</th>\n",
              "    </tr>\n",
              "  </thead>\n",
              "  <tbody>\n",
              "    <tr>\n",
              "      <th>0</th>\n",
              "      <td>0096dafb1049ee942e8e7cbad5abf4a46dc92e3995caac...</td>\n",
              "      <td>0162f124f5bd61592d9bca6aaa3b1b6097a00b62ef33c9...</td>\n",
              "      <td>27dfffe2bb74f8767caeb64ac4c92e9eaf4b11a28ef7e1...</td>\n",
              "      <td>e7c2138fd9d4047356066a01de46fc22ee9955a6fd6679...</td>\n",
              "      <td>NaN</td>\n",
              "      <td>c81bd64a212d3b5cb227499a6b4a3dc607748ae5133e48...</td>\n",
              "      <td>False</td>\n",
              "      <td>embed</td>\n",
              "      <td>web-mobile</td>\n",
              "      <td>2020-02-02T10:21:20.000Z</td>\n",
              "      <td>...</td>\n",
              "      <td>NaN</td>\n",
              "      <td>NaN</td>\n",
              "      <td>0</td>\n",
              "      <td>vod</td>\n",
              "      <td>NaN</td>\n",
              "      <td>Kiprah Eks Pemain Juventus yang Dikaitkan deng...</td>\n",
              "      <td>Sports</td>\n",
              "      <td>NaN</td>\n",
              "      <td>NaN</td>\n",
              "      <td>NaN</td>\n",
              "    </tr>\n",
              "    <tr>\n",
              "      <th>1</th>\n",
              "      <td>01ddda2f8667719625bd0afa58537fd95a166c93233b8b...</td>\n",
              "      <td>5f6c722782c919a9cb6254e94086462a6c34794dc741b6...</td>\n",
              "      <td>90b2b454e70a2c13cf9e8ca987d7c4f914c7d819532c5d...</td>\n",
              "      <td>d265ea2b8df584c51de3b2c6aebb6a0415384a18d1a148...</td>\n",
              "      <td>NaN</td>\n",
              "      <td>90a514e451e400c4c32ac42815920a66c500c1c2ea347d...</td>\n",
              "      <td>False</td>\n",
              "      <td>embed</td>\n",
              "      <td>web-mobile</td>\n",
              "      <td>2020-02-02T12:17:33.000Z</td>\n",
              "      <td>...</td>\n",
              "      <td>NaN</td>\n",
              "      <td>NaN</td>\n",
              "      <td>19</td>\n",
              "      <td>vod</td>\n",
              "      <td>NaN</td>\n",
              "      <td>Pindah ke Inter Milan, Christian Eriksen Jadi ...</td>\n",
              "      <td>Sports</td>\n",
              "      <td>NaN</td>\n",
              "      <td>NaN</td>\n",
              "      <td>NaN</td>\n",
              "    </tr>\n",
              "    <tr>\n",
              "      <th>2</th>\n",
              "      <td>01ddda2f8667719625bd0afa58537fd95a166c93233b8b...</td>\n",
              "      <td>66c32aa6aa6a63f7d85d1bd1b8b6b295477c88794888d8...</td>\n",
              "      <td>f79cab25855841a83e6aa01eccbf3d167491a868977b77...</td>\n",
              "      <td>d2585a4b468b7cdbebc053ffc5b49cebd58d6e738bccdd...</td>\n",
              "      <td>NaN</td>\n",
              "      <td>c278001db02102ece22d428b9235332856cba4754b63a0...</td>\n",
              "      <td>False</td>\n",
              "      <td>embed</td>\n",
              "      <td>web-mobile</td>\n",
              "      <td>2020-02-02T01:26:42.000Z</td>\n",
              "      <td>...</td>\n",
              "      <td>NaN</td>\n",
              "      <td>NaN</td>\n",
              "      <td>24</td>\n",
              "      <td>vod</td>\n",
              "      <td>NaN</td>\n",
              "      <td>Pindah ke Inter Milan, Christian Eriksen Jadi ...</td>\n",
              "      <td>Sports</td>\n",
              "      <td>NaN</td>\n",
              "      <td>NaN</td>\n",
              "      <td>NaN</td>\n",
              "    </tr>\n",
              "    <tr>\n",
              "      <th>3</th>\n",
              "      <td>01e34cb2658d0461f220bda493cb38427eef7de1e23e6e...</td>\n",
              "      <td>38976454aec1c7ff4ca0a35df8821db29227443352e705...</td>\n",
              "      <td>f23800acfeede429803cb2a1380ca7652067fb35d079a8...</td>\n",
              "      <td>bba3183af4f6c29d97dce6ee557561e3feef31d19ae9ab...</td>\n",
              "      <td>NaN</td>\n",
              "      <td>ed0731e9861306e6e26cf3cfb5a43da6b0e19af3ff3ff5...</td>\n",
              "      <td>False</td>\n",
              "      <td>embed</td>\n",
              "      <td>web-mobile</td>\n",
              "      <td>2020-02-02T13:45:05.000Z</td>\n",
              "      <td>...</td>\n",
              "      <td>NaN</td>\n",
              "      <td>NaN</td>\n",
              "      <td>0</td>\n",
              "      <td>vod</td>\n",
              "      <td>NaN</td>\n",
              "      <td>5 Kelebihan Mikel Arteta Menurut Pep Guardiola</td>\n",
              "      <td>Sports</td>\n",
              "      <td>NaN</td>\n",
              "      <td>NaN</td>\n",
              "      <td>NaN</td>\n",
              "    </tr>\n",
              "    <tr>\n",
              "      <th>4</th>\n",
              "      <td>01e34cb2658d0461f220bda493cb38427eef7de1e23e6e...</td>\n",
              "      <td>4b4ee4aa4c37519250aa6efbd78e789b40d976474a1c37...</td>\n",
              "      <td>b058895b6fce58bcfbd72bfd7a3dfa4ae01d094e21c976...</td>\n",
              "      <td>317ecdb779c3ba5bdc1818405aaafebcef35e9582c42e5...</td>\n",
              "      <td>NaN</td>\n",
              "      <td>3679f65950032d6bff1323df5b29292adad99918d616ae...</td>\n",
              "      <td>False</td>\n",
              "      <td>embed</td>\n",
              "      <td>web-desktop</td>\n",
              "      <td>2020-02-02T13:23:40.000Z</td>\n",
              "      <td>...</td>\n",
              "      <td>NaN</td>\n",
              "      <td>NaN</td>\n",
              "      <td>4</td>\n",
              "      <td>vod</td>\n",
              "      <td>NaN</td>\n",
              "      <td>5 Kelebihan Mikel Arteta Menurut Pep Guardiola</td>\n",
              "      <td>Sports</td>\n",
              "      <td>NaN</td>\n",
              "      <td>NaN</td>\n",
              "      <td>NaN</td>\n",
              "    </tr>\n",
              "  </tbody>\n",
              "</table>\n",
              "<p>5 rows × 41 columns</p>\n",
              "</div>\n",
              "      <button class=\"colab-df-convert\" onclick=\"convertToInteractive('df-1a3053d8-3183-4133-88d9-5f926d9b7faf')\"\n",
              "              title=\"Convert this dataframe to an interactive table.\"\n",
              "              style=\"display:none;\">\n",
              "        \n",
              "  <svg xmlns=\"http://www.w3.org/2000/svg\" height=\"24px\"viewBox=\"0 0 24 24\"\n",
              "       width=\"24px\">\n",
              "    <path d=\"M0 0h24v24H0V0z\" fill=\"none\"/>\n",
              "    <path d=\"M18.56 5.44l.94 2.06.94-2.06 2.06-.94-2.06-.94-.94-2.06-.94 2.06-2.06.94zm-11 1L8.5 8.5l.94-2.06 2.06-.94-2.06-.94L8.5 2.5l-.94 2.06-2.06.94zm10 10l.94 2.06.94-2.06 2.06-.94-2.06-.94-.94-2.06-.94 2.06-2.06.94z\"/><path d=\"M17.41 7.96l-1.37-1.37c-.4-.4-.92-.59-1.43-.59-.52 0-1.04.2-1.43.59L10.3 9.45l-7.72 7.72c-.78.78-.78 2.05 0 2.83L4 21.41c.39.39.9.59 1.41.59.51 0 1.02-.2 1.41-.59l7.78-7.78 2.81-2.81c.8-.78.8-2.07 0-2.86zM5.41 20L4 18.59l7.72-7.72 1.47 1.35L5.41 20z\"/>\n",
              "  </svg>\n",
              "      </button>\n",
              "      \n",
              "  <style>\n",
              "    .colab-df-container {\n",
              "      display:flex;\n",
              "      flex-wrap:wrap;\n",
              "      gap: 12px;\n",
              "    }\n",
              "\n",
              "    .colab-df-convert {\n",
              "      background-color: #E8F0FE;\n",
              "      border: none;\n",
              "      border-radius: 50%;\n",
              "      cursor: pointer;\n",
              "      display: none;\n",
              "      fill: #1967D2;\n",
              "      height: 32px;\n",
              "      padding: 0 0 0 0;\n",
              "      width: 32px;\n",
              "    }\n",
              "\n",
              "    .colab-df-convert:hover {\n",
              "      background-color: #E2EBFA;\n",
              "      box-shadow: 0px 1px 2px rgba(60, 64, 67, 0.3), 0px 1px 3px 1px rgba(60, 64, 67, 0.15);\n",
              "      fill: #174EA6;\n",
              "    }\n",
              "\n",
              "    [theme=dark] .colab-df-convert {\n",
              "      background-color: #3B4455;\n",
              "      fill: #D2E3FC;\n",
              "    }\n",
              "\n",
              "    [theme=dark] .colab-df-convert:hover {\n",
              "      background-color: #434B5C;\n",
              "      box-shadow: 0px 1px 3px 1px rgba(0, 0, 0, 0.15);\n",
              "      filter: drop-shadow(0px 1px 2px rgba(0, 0, 0, 0.3));\n",
              "      fill: #FFFFFF;\n",
              "    }\n",
              "  </style>\n",
              "\n",
              "      <script>\n",
              "        const buttonEl =\n",
              "          document.querySelector('#df-1a3053d8-3183-4133-88d9-5f926d9b7faf button.colab-df-convert');\n",
              "        buttonEl.style.display =\n",
              "          google.colab.kernel.accessAllowed ? 'block' : 'none';\n",
              "\n",
              "        async function convertToInteractive(key) {\n",
              "          const element = document.querySelector('#df-1a3053d8-3183-4133-88d9-5f926d9b7faf');\n",
              "          const dataTable =\n",
              "            await google.colab.kernel.invokeFunction('convertToInteractive',\n",
              "                                                     [key], {});\n",
              "          if (!dataTable) return;\n",
              "\n",
              "          const docLinkHtml = 'Like what you see? Visit the ' +\n",
              "            '<a target=\"_blank\" href=https://colab.research.google.com/notebooks/data_table.ipynb>data table notebook</a>'\n",
              "            + ' to learn more about interactive tables.';\n",
              "          element.innerHTML = '';\n",
              "          dataTable['output_type'] = 'display_data';\n",
              "          await google.colab.output.renderOutput(dataTable, element);\n",
              "          const docLink = document.createElement('div');\n",
              "          docLink.innerHTML = docLinkHtml;\n",
              "          element.appendChild(docLink);\n",
              "        }\n",
              "      </script>\n",
              "    </div>\n",
              "  </div>\n",
              "  "
            ]
          },
          "metadata": {},
          "execution_count": 456
        }
      ]
    },
    {
      "cell_type": "markdown",
      "source": [
        "Showing 3 Relevant Column"
      ],
      "metadata": {
        "id": "5U1aRRX_HJh5"
      }
    },
    {
      "cell_type": "code",
      "source": [
        "movies_data_clean = \"select distinct film_title, category_name, genre_name from movies_data where film_title is not null\"\n",
        "sqldf(movies_data_clean, globals())"
      ],
      "metadata": {
        "colab": {
          "base_uri": "https://localhost:8080/",
          "height": 424
        },
        "id": "XEXenZpiJa77",
        "outputId": "0a270e8d-aa6d-4578-9ea6-12a4d5985c1a"
      },
      "execution_count": 3,
      "outputs": [
        {
          "output_type": "execute_result",
          "data": {
            "text/plain": [
              "                               film_title category_name  \\\n",
              "0                           Samudra Cinta       TV Show   \n",
              "1                             Anak Langit       TV Show   \n",
              "2             Kawin Kontrak Pembawa Cinta        Movies   \n",
              "3                      He is Psychometric        Movies   \n",
              "4                      Cinta Karena Cinta       TV Show   \n",
              "..                                    ...           ...   \n",
              "541                            Pink Angel       TV Show   \n",
              "542                         Warm and Cozy        Movies   \n",
              "543                    The Tarix Jabrix 3        Movies   \n",
              "544            Kue Thok Cinta DP 0 Rupiah        Movies   \n",
              "545  Digombalin Miss Kecambah, Auto Baper        Movies   \n",
              "\n",
              "                          genre_name  \n",
              "0                           Sinetron  \n",
              "1                           Sinetron  \n",
              "2                                FTV  \n",
              "3    Newly Added,Drama,Korean Series  \n",
              "4                           Sinetron  \n",
              "..                               ...  \n",
              "541                             None  \n",
              "542     Comedy,Romance,Korean Series  \n",
              "543    Drama,Indonesian Movie,Comedy  \n",
              "544                             None  \n",
              "545                              FTV  \n",
              "\n",
              "[546 rows x 3 columns]"
            ],
            "text/html": [
              "\n",
              "  <div id=\"df-84518987-ff52-4f7f-b3c0-d105c1f57c2c\">\n",
              "    <div class=\"colab-df-container\">\n",
              "      <div>\n",
              "<style scoped>\n",
              "    .dataframe tbody tr th:only-of-type {\n",
              "        vertical-align: middle;\n",
              "    }\n",
              "\n",
              "    .dataframe tbody tr th {\n",
              "        vertical-align: top;\n",
              "    }\n",
              "\n",
              "    .dataframe thead th {\n",
              "        text-align: right;\n",
              "    }\n",
              "</style>\n",
              "<table border=\"1\" class=\"dataframe\">\n",
              "  <thead>\n",
              "    <tr style=\"text-align: right;\">\n",
              "      <th></th>\n",
              "      <th>film_title</th>\n",
              "      <th>category_name</th>\n",
              "      <th>genre_name</th>\n",
              "    </tr>\n",
              "  </thead>\n",
              "  <tbody>\n",
              "    <tr>\n",
              "      <th>0</th>\n",
              "      <td>Samudra Cinta</td>\n",
              "      <td>TV Show</td>\n",
              "      <td>Sinetron</td>\n",
              "    </tr>\n",
              "    <tr>\n",
              "      <th>1</th>\n",
              "      <td>Anak Langit</td>\n",
              "      <td>TV Show</td>\n",
              "      <td>Sinetron</td>\n",
              "    </tr>\n",
              "    <tr>\n",
              "      <th>2</th>\n",
              "      <td>Kawin Kontrak Pembawa Cinta</td>\n",
              "      <td>Movies</td>\n",
              "      <td>FTV</td>\n",
              "    </tr>\n",
              "    <tr>\n",
              "      <th>3</th>\n",
              "      <td>He is Psychometric</td>\n",
              "      <td>Movies</td>\n",
              "      <td>Newly Added,Drama,Korean Series</td>\n",
              "    </tr>\n",
              "    <tr>\n",
              "      <th>4</th>\n",
              "      <td>Cinta Karena Cinta</td>\n",
              "      <td>TV Show</td>\n",
              "      <td>Sinetron</td>\n",
              "    </tr>\n",
              "    <tr>\n",
              "      <th>...</th>\n",
              "      <td>...</td>\n",
              "      <td>...</td>\n",
              "      <td>...</td>\n",
              "    </tr>\n",
              "    <tr>\n",
              "      <th>541</th>\n",
              "      <td>Pink Angel</td>\n",
              "      <td>TV Show</td>\n",
              "      <td>None</td>\n",
              "    </tr>\n",
              "    <tr>\n",
              "      <th>542</th>\n",
              "      <td>Warm and Cozy</td>\n",
              "      <td>Movies</td>\n",
              "      <td>Comedy,Romance,Korean Series</td>\n",
              "    </tr>\n",
              "    <tr>\n",
              "      <th>543</th>\n",
              "      <td>The Tarix Jabrix 3</td>\n",
              "      <td>Movies</td>\n",
              "      <td>Drama,Indonesian Movie,Comedy</td>\n",
              "    </tr>\n",
              "    <tr>\n",
              "      <th>544</th>\n",
              "      <td>Kue Thok Cinta DP 0 Rupiah</td>\n",
              "      <td>Movies</td>\n",
              "      <td>None</td>\n",
              "    </tr>\n",
              "    <tr>\n",
              "      <th>545</th>\n",
              "      <td>Digombalin Miss Kecambah, Auto Baper</td>\n",
              "      <td>Movies</td>\n",
              "      <td>FTV</td>\n",
              "    </tr>\n",
              "  </tbody>\n",
              "</table>\n",
              "<p>546 rows × 3 columns</p>\n",
              "</div>\n",
              "      <button class=\"colab-df-convert\" onclick=\"convertToInteractive('df-84518987-ff52-4f7f-b3c0-d105c1f57c2c')\"\n",
              "              title=\"Convert this dataframe to an interactive table.\"\n",
              "              style=\"display:none;\">\n",
              "        \n",
              "  <svg xmlns=\"http://www.w3.org/2000/svg\" height=\"24px\"viewBox=\"0 0 24 24\"\n",
              "       width=\"24px\">\n",
              "    <path d=\"M0 0h24v24H0V0z\" fill=\"none\"/>\n",
              "    <path d=\"M18.56 5.44l.94 2.06.94-2.06 2.06-.94-2.06-.94-.94-2.06-.94 2.06-2.06.94zm-11 1L8.5 8.5l.94-2.06 2.06-.94-2.06-.94L8.5 2.5l-.94 2.06-2.06.94zm10 10l.94 2.06.94-2.06 2.06-.94-2.06-.94-.94-2.06-.94 2.06-2.06.94z\"/><path d=\"M17.41 7.96l-1.37-1.37c-.4-.4-.92-.59-1.43-.59-.52 0-1.04.2-1.43.59L10.3 9.45l-7.72 7.72c-.78.78-.78 2.05 0 2.83L4 21.41c.39.39.9.59 1.41.59.51 0 1.02-.2 1.41-.59l7.78-7.78 2.81-2.81c.8-.78.8-2.07 0-2.86zM5.41 20L4 18.59l7.72-7.72 1.47 1.35L5.41 20z\"/>\n",
              "  </svg>\n",
              "      </button>\n",
              "      \n",
              "  <style>\n",
              "    .colab-df-container {\n",
              "      display:flex;\n",
              "      flex-wrap:wrap;\n",
              "      gap: 12px;\n",
              "    }\n",
              "\n",
              "    .colab-df-convert {\n",
              "      background-color: #E8F0FE;\n",
              "      border: none;\n",
              "      border-radius: 50%;\n",
              "      cursor: pointer;\n",
              "      display: none;\n",
              "      fill: #1967D2;\n",
              "      height: 32px;\n",
              "      padding: 0 0 0 0;\n",
              "      width: 32px;\n",
              "    }\n",
              "\n",
              "    .colab-df-convert:hover {\n",
              "      background-color: #E2EBFA;\n",
              "      box-shadow: 0px 1px 2px rgba(60, 64, 67, 0.3), 0px 1px 3px 1px rgba(60, 64, 67, 0.15);\n",
              "      fill: #174EA6;\n",
              "    }\n",
              "\n",
              "    [theme=dark] .colab-df-convert {\n",
              "      background-color: #3B4455;\n",
              "      fill: #D2E3FC;\n",
              "    }\n",
              "\n",
              "    [theme=dark] .colab-df-convert:hover {\n",
              "      background-color: #434B5C;\n",
              "      box-shadow: 0px 1px 3px 1px rgba(0, 0, 0, 0.15);\n",
              "      filter: drop-shadow(0px 1px 2px rgba(0, 0, 0, 0.3));\n",
              "      fill: #FFFFFF;\n",
              "    }\n",
              "  </style>\n",
              "\n",
              "      <script>\n",
              "        const buttonEl =\n",
              "          document.querySelector('#df-84518987-ff52-4f7f-b3c0-d105c1f57c2c button.colab-df-convert');\n",
              "        buttonEl.style.display =\n",
              "          google.colab.kernel.accessAllowed ? 'block' : 'none';\n",
              "\n",
              "        async function convertToInteractive(key) {\n",
              "          const element = document.querySelector('#df-84518987-ff52-4f7f-b3c0-d105c1f57c2c');\n",
              "          const dataTable =\n",
              "            await google.colab.kernel.invokeFunction('convertToInteractive',\n",
              "                                                     [key], {});\n",
              "          if (!dataTable) return;\n",
              "\n",
              "          const docLinkHtml = 'Like what you see? Visit the ' +\n",
              "            '<a target=\"_blank\" href=https://colab.research.google.com/notebooks/data_table.ipynb>data table notebook</a>'\n",
              "            + ' to learn more about interactive tables.';\n",
              "          element.innerHTML = '';\n",
              "          dataTable['output_type'] = 'display_data';\n",
              "          await google.colab.output.renderOutput(dataTable, element);\n",
              "          const docLink = document.createElement('div');\n",
              "          docLink.innerHTML = docLinkHtml;\n",
              "          element.appendChild(docLink);\n",
              "        }\n",
              "      </script>\n",
              "    </div>\n",
              "  </div>\n",
              "  "
            ]
          },
          "metadata": {},
          "execution_count": 3
        }
      ]
    },
    {
      "cell_type": "markdown",
      "source": [
        "Cleaning the Data by Removing Duplicate"
      ],
      "metadata": {
        "id": "V_P06A7PHh4V"
      }
    },
    {
      "cell_type": "code",
      "source": [
        "df = sqldf(movies_data_clean, globals())\n",
        "df = df.drop_duplicates(subset=['film_title'])"
      ],
      "metadata": {
        "id": "1gaK9NtkK4gn"
      },
      "execution_count": 4,
      "outputs": []
    },
    {
      "cell_type": "code",
      "source": [
        "test2 = \"select * from df\"\n",
        "sqldf(test2, globals())\n",
        "\n",
        "df2 = sqldf(test2, globals())"
      ],
      "metadata": {
        "id": "wWYGYIfuN6SK"
      },
      "execution_count": 5,
      "outputs": []
    },
    {
      "cell_type": "code",
      "source": [
        "df2['index'] = df2.index\n",
        "print(df2)"
      ],
      "metadata": {
        "colab": {
          "base_uri": "https://localhost:8080/"
        },
        "id": "25w9K4OICMno",
        "outputId": "83d3c218-4509-4baf-adfc-171bb75d3551"
      },
      "execution_count": 6,
      "outputs": [
        {
          "output_type": "stream",
          "name": "stdout",
          "text": [
            "                               film_title category_name  \\\n",
            "0                           Samudra Cinta       TV Show   \n",
            "1                             Anak Langit       TV Show   \n",
            "2             Kawin Kontrak Pembawa Cinta        Movies   \n",
            "3                      He is Psychometric        Movies   \n",
            "4                      Cinta Karena Cinta       TV Show   \n",
            "..                                    ...           ...   \n",
            "365                               Company        Movies   \n",
            "366                            Pink Angel       TV Show   \n",
            "367                    The Tarix Jabrix 3        Movies   \n",
            "368            Kue Thok Cinta DP 0 Rupiah        Movies   \n",
            "369  Digombalin Miss Kecambah, Auto Baper        Movies   \n",
            "\n",
            "                          genre_name  index  \n",
            "0                           Sinetron      0  \n",
            "1                           Sinetron      1  \n",
            "2                                FTV      2  \n",
            "3    Newly Added,Drama,Korean Series      3  \n",
            "4                           Sinetron      4  \n",
            "..                               ...    ...  \n",
            "365                  Bollywood,Drama    365  \n",
            "366                             None    366  \n",
            "367    Drama,Indonesian Movie,Comedy    367  \n",
            "368                             None    368  \n",
            "369                              FTV    369  \n",
            "\n",
            "[370 rows x 4 columns]\n"
          ]
        }
      ]
    },
    {
      "cell_type": "markdown",
      "source": [
        "Selecting Relevant Feature"
      ],
      "metadata": {
        "id": "OXNmRB8SIksm"
      }
    },
    {
      "cell_type": "code",
      "source": [
        "selected_features = ['film_title','category_name','genre_name']\n",
        "print(selected_features)"
      ],
      "metadata": {
        "colab": {
          "base_uri": "https://localhost:8080/"
        },
        "id": "mRlxCBad4Nbd",
        "outputId": "5250925c-f98c-4029-b245-ee6c039ff707"
      },
      "execution_count": 7,
      "outputs": [
        {
          "output_type": "stream",
          "name": "stdout",
          "text": [
            "['film_title', 'category_name', 'genre_name']\n"
          ]
        }
      ]
    },
    {
      "cell_type": "code",
      "source": [
        "for feature in selected_features:\n",
        "  df2[feature] = df2[feature].fillna('')"
      ],
      "metadata": {
        "id": "wMObDzlk4g_b"
      },
      "execution_count": 8,
      "outputs": []
    },
    {
      "cell_type": "markdown",
      "source": [
        "Combine Selected Feature"
      ],
      "metadata": {
        "id": "g0DimtsVIplI"
      }
    },
    {
      "cell_type": "code",
      "source": [
        "combined_features = df2['film_title']+' '+df2['category_name']+' '+df2['genre_name']"
      ],
      "metadata": {
        "id": "2v3PsMWe4lJz"
      },
      "execution_count": 9,
      "outputs": []
    },
    {
      "cell_type": "code",
      "source": [
        "print(combined_features)"
      ],
      "metadata": {
        "colab": {
          "base_uri": "https://localhost:8080/"
        },
        "id": "WH0fameC4vW5",
        "outputId": "07550080-958c-4520-b3b8-c3de6802c168"
      },
      "execution_count": 10,
      "outputs": [
        {
          "output_type": "stream",
          "name": "stdout",
          "text": [
            "0                         Samudra Cinta TV Show Sinetron\n",
            "1                           Anak Langit TV Show Sinetron\n",
            "2                 Kawin Kontrak Pembawa Cinta Movies FTV\n",
            "3      He is Psychometric Movies Newly Added,Drama,Ko...\n",
            "4                    Cinta Karena Cinta TV Show Sinetron\n",
            "                             ...                        \n",
            "365                       Company Movies Bollywood,Drama\n",
            "366                                  Pink Angel TV Show \n",
            "367    The Tarix Jabrix 3 Movies Drama,Indonesian Mov...\n",
            "368                   Kue Thok Cinta DP 0 Rupiah Movies \n",
            "369      Digombalin Miss Kecambah, Auto Baper Movies FTV\n",
            "Length: 370, dtype: object\n"
          ]
        }
      ]
    },
    {
      "cell_type": "markdown",
      "source": [
        "Converting the Text to Feature Vectors"
      ],
      "metadata": {
        "id": "6ERL5s6zI3X2"
      }
    },
    {
      "cell_type": "code",
      "source": [
        "vectorizer = TfidfVectorizer()"
      ],
      "metadata": {
        "id": "s24VkkVG4zgx"
      },
      "execution_count": 11,
      "outputs": []
    },
    {
      "cell_type": "code",
      "source": [
        "feature_vectors = vectorizer.fit_transform(combined_features)"
      ],
      "metadata": {
        "id": "7o25L20x43iE"
      },
      "execution_count": 12,
      "outputs": []
    },
    {
      "cell_type": "code",
      "source": [
        "print(feature_vectors)"
      ],
      "metadata": {
        "colab": {
          "base_uri": "https://localhost:8080/"
        },
        "id": "kVyc-jiW45GG",
        "outputId": "90abcca6-2202-40ac-91da-abcee88a9f40"
      },
      "execution_count": 13,
      "outputs": [
        {
          "output_type": "stream",
          "name": "stdout",
          "text": [
            "  (0, 661)\t0.3994380817417426\n",
            "  (0, 655)\t0.3247546454131846\n",
            "  (0, 741)\t0.32666813546297246\n",
            "  (0, 131)\t0.3305926981574686\n",
            "  (0, 606)\t0.7204026903997119\n",
            "  (1, 378)\t0.646257668612681\n",
            "  (1, 33)\t0.5321679442183018\n",
            "  (1, 661)\t0.35832726182395624\n",
            "  (1, 655)\t0.2913303667694721\n",
            "  (1, 741)\t0.2930469172973489\n",
            "  (2, 228)\t0.223196483530727\n",
            "  (2, 457)\t0.11895827756583217\n",
            "  (2, 516)\t0.5399493781350667\n",
            "  (2, 363)\t0.5399493781350667\n",
            "  (2, 331)\t0.5399493781350667\n",
            "  (2, 131)\t0.24778269732318361\n",
            "  (3, 642)\t0.23294895132218796\n",
            "  (3, 365)\t0.2315388658391128\n",
            "  (3, 188)\t0.17818509723368145\n",
            "  (3, 19)\t0.27726155178917733\n",
            "  (3, 472)\t0.27726155178917733\n",
            "  (3, 553)\t0.5045520448946629\n",
            "  (3, 288)\t0.4302611425568351\n",
            "  (3, 265)\t0.5045520448946629\n",
            "  (3, 457)\t0.11115975799489397\n",
            "  :\t:\n",
            "  (366, 36)\t0.6618641825855923\n",
            "  (366, 537)\t0.6187402125368672\n",
            "  (366, 655)\t0.2983657207165772\n",
            "  (366, 741)\t0.30012372432284606\n",
            "  (367, 294)\t0.5593915356679673\n",
            "  (367, 703)\t0.5593915356679673\n",
            "  (367, 456)\t0.271862227114319\n",
            "  (367, 283)\t0.2775413900768439\n",
            "  (367, 141)\t0.28153716710259075\n",
            "  (367, 717)\t0.2995754924308736\n",
            "  (367, 188)\t0.19755193975183413\n",
            "  (367, 457)\t0.1232416523893492\n",
            "  (368, 594)\t0.4845512214528696\n",
            "  (368, 185)\t0.4845512214528696\n",
            "  (368, 722)\t0.4845512214528696\n",
            "  (368, 371)\t0.4845512214528696\n",
            "  (368, 457)\t0.10675330138455064\n",
            "  (368, 131)\t0.22236049063992402\n",
            "  (369, 51)\t0.45949723044449775\n",
            "  (369, 335)\t0.45949723044449775\n",
            "  (369, 173)\t0.45949723044449775\n",
            "  (369, 446)\t0.3918402578549182\n",
            "  (369, 64)\t0.4083167064422869\n",
            "  (369, 228)\t0.1899403354839412\n",
            "  (369, 457)\t0.10123356242902168\n"
          ]
        }
      ]
    },
    {
      "cell_type": "markdown",
      "source": [
        "Get Similarity Score using Cosine Similarity"
      ],
      "metadata": {
        "id": "zAgiMuO8JFI_"
      }
    },
    {
      "cell_type": "code",
      "source": [
        "similarity = cosine_similarity(feature_vectors)"
      ],
      "metadata": {
        "id": "L9a4Wa4f48dK"
      },
      "execution_count": 14,
      "outputs": []
    },
    {
      "cell_type": "code",
      "source": [
        "print(similarity.shape)"
      ],
      "metadata": {
        "colab": {
          "base_uri": "https://localhost:8080/"
        },
        "id": "noK_YtZftkWv",
        "outputId": "dd57f8d2-760f-4fe1-98e7-bc279294e78b"
      },
      "execution_count": 15,
      "outputs": [
        {
          "output_type": "stream",
          "name": "stdout",
          "text": [
            "(370, 370)\n"
          ]
        }
      ]
    },
    {
      "cell_type": "markdown",
      "source": [
        "Getting Movie Name"
      ],
      "metadata": {
        "id": "7czLER52OCJi"
      }
    },
    {
      "cell_type": "code",
      "source": [
        "movie_name = input(' Enter your favourite movie name : ')"
      ],
      "metadata": {
        "colab": {
          "base_uri": "https://localhost:8080/"
        },
        "id": "sdefqhhxtuqY",
        "outputId": "a851c2a7-2bec-4229-f168-2517776daa72"
      },
      "execution_count": 16,
      "outputs": [
        {
          "name": "stdout",
          "output_type": "stream",
          "text": [
            " Enter your favourite movie name : gundala\n"
          ]
        }
      ]
    },
    {
      "cell_type": "markdown",
      "source": [
        "Showing All Title on Dataset"
      ],
      "metadata": {
        "id": "IZ4zaqzwObdg"
      }
    },
    {
      "cell_type": "code",
      "source": [
        "list_of_all_titles = df2['film_title'].tolist()\n",
        "print(list_of_all_titles)"
      ],
      "metadata": {
        "colab": {
          "base_uri": "https://localhost:8080/"
        },
        "id": "yEOd3MbGt5b-",
        "outputId": "0ca54b12-e672-4e71-c7aa-24acff0dcdf4"
      },
      "execution_count": 477,
      "outputs": [
        {
          "output_type": "stream",
          "name": "stdout",
          "text": [
            "['Samudra Cinta', 'Anak Langit', 'Kawin Kontrak Pembawa Cinta', 'He is Psychometric', 'Cinta Karena Cinta', 'Tiba Tiba Cinta', 'Resep Cinta Kopi Cincau', 'Essential: Lesty Kejora', 'Magic Tumbler', 'Islam KTP', 'Cinta Misteri', 'Black Dog', 'Ganteng Ganteng Serigala', 'Antara Suami Kaya Atau Setia', 'The Secret Hotel', 'Cinta Anak Muda', 'Legend of the Blue Sea', 'Jangan Panggil Gue Pak Haji', 'Essential: Nella Kharisma', 'Cinta dan Kesetiaan', 'Detak Cinta', 'Drakula Cantik', 'Salahkah Aku Karena Menikah Di Usia Muda', 'Reply 1988', 'I Love You Baby', 'Siapa Takut Jatuh Cinta', 'Cinta Dua Hati', \"Essential: D'MASIV\", 'Energi Cinta Cinderella Matre', 'My Wife Anak Geng Motor', 'Marriage, Not Dating', 'LIPUTAN6.COM', 'Love in Paris', 'We Bare Bears', 'Weightlifting Fairy Kim Bok-joo', 'Ketika Selamet Jadi Tajir', '252 Signal of Life', 'Headshot', 'Akibat Hamil Muda', 'Kepincut Babang Ojek Tamvan', 'Essential: Nidji', \"Neng Supir Aku Tanpamu I'Mbyar\", 'Blindness', 'Gundala', 'Essentials: Virgoun', 'Cintaku di Top Up Sampai Unlimited  | FTV SCTV', 'Girls in The City', 'Still 17', 'Essential: Noah', 'Mawar Dan Melati', 'Dulu Sahabatku Sekarang Jadi Maduku', 'HEART', 'Demo Cinta Nona Florist', 'Fimela: Zodiak', 'Essential: Fildan', 'Cinta Buta', 'Dr. Romantic', 'Essential: Iwan Fals', 'Boy', 'Jangan Bikin Cintaku Sebatas Teman Tanpa Kepastian', 'Konon Katanya Cinta Itu Buta', 'The Great Show', 'Babel', 'Hotel King', 'Dua Wanita Cantik', 'Para Pencari Tuhan', 'Cintaku Bernafas Dalam Bubur', 'Heart Series', 'Ganteng-Ganteng Serigala Returns', 'Essential: Rossa', 'Terlanjur Cinta', 'The Inheritors', 'Stand by Me Doraemon', 'The Legend of Bruce Lee', 'Destruction: Los Angeles', 'Cinta Suci', \"The Master's Sun\", 'The Moon Embracing the Sun', 'Essential: Zaskia Gotik', 'The Raid 2: Berandal', 'Pendekar Tongkat Emas', 'Alphabet', 'I Fine... Thank You, Love You', 'Bodyguard Ganteng Cewek Primadona', 'Unboxing Rahasia Cinta Rumah No 29', 'Sodrun Merayu Tuhan', 'Warm and Cozy', 'The K2', 'The Good Wife', 'Essential : Via Vallen', 'Seblak Empire Hentikan Ledakan Cinta', 'Resep Rahasia Gado-Gado Cinta', 'Dua Dunia Salma', 'Pinocchio', 'Hours Web Series', 'Surat Cinta Untuk Starla', \"What's Wrong with Secretary Kim\", 'Crazy Little Things Called Love', 'Orang Ketiga', 'About Time', 'On The Weekend', 'Jodoh Yang Tertukar', 'Seleb', 'GET MARRIED', 'Kill Me, Heal Me', 'Full Highlights UEFA Champions League', 'Mermaid in Love 2 Dunia', 'Banyak Jalan Menuju Rhoma', 'Cinta Ambyar Sobat Meong', 'Gie', 'Lupus Milenia', 'La Liga Spanyol', 'Taken', 'Heart Series 2', 'The Gang Doctor', 'Get Married The Series', 'Topeng Kaca', 'Sayap Pelindungmu', 'Promise', 'BERITA KRIMINAL', 'Essential: Slank', 'Rain', 'Penakluk Hati', 'Dari Donor Jadi Demen', 'Antar Aku Ke KUA', \"What They Don't Talk About When They Talk About Love\", 'Cinta yang Sama', 'Milyader Kece dengan Kearifan Lokal', 'Princess Hours', 'Love Story', 'Coffee Prince', 'Asisten Boss Kenalan Jangan', 'Gadis Pemimpi', 'The Thieves', 'High School Love Story', 'Oh My Ghost', 'BUSER INVESTIGASI', 'The Player', 'Tomorrow With You', 'Perempuan Dalam Sangkar Emas', 'Istri Istri Akhir Zaman', 'Heart', 'Menantu Bayaran Bikin Salfok Duniaku', 'Kutukan Cinta Sang Bintang', 'Movie Talk', 'Terlalu Baper Untuk Dilupakan', 'Racikan Cinta Mas Jamu', 'Apakah Karena Aku Janda Lalu Bisa Difitnah Seenaknya', 'Sobat Ambyar Jadi Saksi Nikah Kita', 'Romeo + Rinjani', '100 Days My Prince', 'Cunning Single Lady', 'Ek- the Power of One', \"I'm Not a Robot\", 'Tukang Sayur Reborn', 'Aku Bukan Anak Haram', 'PSS SLEMAN', 'Inem Asisten Seksi Repot', 'Whip It', 'Catch the Ghost', 'Shaolin Grandma', 'Virgin', 'Mother', 'Cinta Kedua', 'Kindergarten War', 'Sad Boy Mohon Doa Restu', 'Gangs of New York', 'Resep Cinta Bikin Romantis', 'Love is Pink', 'Magic Cinta', 'Jomblo Ngenes Anti Galau | FTV SCTV', 'Warkop DKI Reborn Jangkrik Boss! Part: 1', 'PS TIRA PERSIKABO', 'Revolutionary Love', 'The Rebel', 'Good Witch', 'Essential: Virzha', 'Cewe Matre Kasmaran', 'KapanLagi Challenge', 'Touch Your Heart', 'Essential: Siti Badriah', 'Kezel Sih Tapi Rindu', 'Perempuan Berkalung Sorban', 'Saur Sepuh', 'W – Two Worlds', 'Comeback Sang Mantan', \"My Best Friend's Girl\", 'Petualangan Sherina', 'Operasi Tangkap Cinta Cewek Skuter', 'Dr. T and the Women', 'Penjaga Hati', 'Malaikat Cinta', 'Friendship', 'PERSIPURA JAYAPURA', 'Resep Maknyus Ala Chef Syantik', 'The Cursed', 'Partners For Justice', 'NEWS360', 'Tentang Cinta', 'Pedang Naga Puspa', 'Da Vinci - Last Chance To See', 'My Secret Terrius', 'Super ABG', 'Mas Paijo Bukan Pengemis Cinta', 'Demi Kamu Aku Kudu Setrong', 'My Princess', 'MERDEKA.COM', \"D'Hijabers\", '3 Semprul Mengejar Surga 4', 'Cinta Pada Gigitan Pertama', 'MADURA UNITED', 'Pacarku Sang Juara No 27', 'Setangkai Rambutan Cinta', 'Jo & Jay', 'Emergency Couple', 'KapanLagi Kepo', 'Super Didi', 'Mau dong... ah', 'AREMA FC', 'Bangkok Adrenalin', 'Kepincut Cinta Ksatria Gado-Gado Bergitar', 'Kiamat Hari Jumat', 'Basahhh', 'Essential: Wali', 'Si Manis Juragan Nanas', 'Essential: Sheryl Sheinafia', 'Abang Ojek Hampir Macho | FTV SCTV', 'MONYET CANTIK 2', 'Sang Penari', 'Cinta Yang Tertukar', 'Coklat Stroberi', 'Midnight My Love', 'Pembantu Penawar Rindu', 'Duyung Cilik', 'The Raid', 'Switch: Change the World', 'Cantik-Cantik Magic', 'Prince Charming', 'Seven Something', 'Destruction: Las Vegas', 'PERSIJA JAKARTA', 'Istri untuk Papaku', 'Cinta Bersemi di Putih Abu-Abu', '30 Hari Magang Jadi Pacar', 'BBC - Earthflight', 'Filosofi Kopi', 'Essential: Naff', 'Berkah Cinta', 'Mengejar Cinta? Siap Bosque!', 'Ada Cinta di SMA', 'Missing 9', 'Wushu The Next Generation', 'AKU KAU dan KUA', 'Piala AFF U-15 2019', 'Galih dan Ratna', 'Preman Sadis Jadi Romantis', 'Sky Castle', 'She Was Pretty', 'Haji Belajar Ngaji', 'Chai Lai Angels', 'Ada Apa dengan Cinta?', 'Radit dan Jani', 'Get Married', 'Gadis +62 Lupa Cinta', 'Pengakuan Seorang Pelacur', 'Her Private Life', 'Ali', 'Guru Rock n Love', 'Serigala Terakhir', 'Biar Tak Seumur Cinta Pantang Mundur', 'Putri Titipan Tuhan', 'Ratu Diskon Cintanya Limited Edition', 'One Fine Day', 'SEMEN PADANG FC', 'A Werewolf Boy', 'Sama Sama Cinta Yuk Nikah Aja', 'Twilight', 'Essential: Sherina', 'KLY Lounge', 'Kekasih Bayangan', 'Pantang Pulang Sebelum Jadian', 'Daybreakers', 'Cinta Miss Angkot Bukan Kaleng Kaleng', 'Boyfriend Kiriman Dari Surga | FTV SCTV', 'Ratu Diskon Dikorting Rindu', 'Terobos Palang Kereta 2 Orang Baper', 'Jurus Putus Cinta Pipel +62', 'Abang Bajaj vs Neng Pecel', 'Shaadi Mein Zaroor Aana', '10 x 10', 'Cinderella', 'While You Were Sleeping', 'SI BIANG KEROK', 'Ada Apa Dengan Cinta 2', 'Without You Aku Mah Apa Atuh', 'Cintaku Semerbak di Florist', 'Jodohku di Bengkel Motor', 'Seharum Bunga Cinta Ratu Ayu', 'Dear John', 'Crank', 'Courage the Cowardly Dog', 'Relationshit', 'Merindu Baginda Nabi', 'Popcorn', 'PS BARITO PUTERA', 'Cinta Penjual Ayam Geprek Level Lima Maknyos', 'Get Married 2', 'Anda Puas, Saya Loyo', 'Another Miss Oh', 'Kukejar Cinta ke Negeri Cina', 'Ramuan Cinta Miss Jamu Glowing', 'The Cured', 'Live Up To Your Name', 'Search: WWW', 'Tiada Hari Yang Tak Indah', 'The Twilight Saga: Eclipse', 'Anak Masjid', 'La Reina del Flow', 'The Grand Heist', 'Emak Ijah Pengen Ke Mekah', 'Kenka Bancho 1', 'Ratu Selendang Mayang Sejagat', 'The Twilight Saga New Moon', 'Virgin 2', 'Get Married 3', 'Teen Patti', 'This Is Cinta', 'Negeri Ini Butuh Sate Klopo', 'Click Bait Cinta si Tinggi', 'My Contracted Husband, Mr.Oh', 'One Day', 'Essential: Ungu', 'Cewek Kalong Pacaran, Yuk', 'Ratu Montir Sejagad', 'Momentum', 'Essential: Afgan', 'Pecahkan Saja Hati Mika Biar Ramai', 'Julaiha Princess Betawi', 'Bangkok Traffic (Love) Story', 'Children of the 20 Century', 'Fimela: Personal Style', 'The Punisher', 'Abang Sayur Eneng Sayang', 'Cold Eyes', 'Secretary', 'Gita Cinta Romli dan Juleha', 'The Duchess', 'The Fabulous Udin', '3 Hari untuk Selamanya', 'VIVA NEWS', 'Because This Is My First Life', 'Zee Bioskop Catch Up', 'Mercury Man', 'Ramuan Cinta', 'MONYET CANTIK', 'Goodbye to Goodbye', 'Bunga Cinta Bersemi Di Bengkel', 'The Ghost Writer', 'Bewafaa', 'Gasanggup Akutu Mba Angkot', 'YouTubers', 'Pacar Gue Bukan Cewek Gedongan', 'Sopir dan Majikan', 'Penari Malam', 'Cek Toko Sebelah', 'Company', 'Pink Angel', 'The Tarix Jabrix 3', 'Kue Thok Cinta DP 0 Rupiah', 'Digombalin Miss Kecambah, Auto Baper']\n"
          ]
        }
      ]
    },
    {
      "cell_type": "markdown",
      "source": [
        "Finding the Close Match Movie"
      ],
      "metadata": {
        "id": "mIoGVbLvOj7r"
      }
    },
    {
      "cell_type": "code",
      "source": [
        "find_close_match = difflib.get_close_matches(movie_name, list_of_all_titles)\n",
        "print(find_close_match)"
      ],
      "metadata": {
        "colab": {
          "base_uri": "https://localhost:8080/"
        },
        "id": "opOo6mCAuB7d",
        "outputId": "9b8f1e57-6f85-407d-b8d5-a16abc09a0fa"
      },
      "execution_count": 478,
      "outputs": [
        {
          "output_type": "stream",
          "name": "stdout",
          "text": [
            "['Gundala']\n"
          ]
        }
      ]
    },
    {
      "cell_type": "code",
      "source": [
        "close_match = find_close_match[0]\n",
        "print(close_match)"
      ],
      "metadata": {
        "colab": {
          "base_uri": "https://localhost:8080/"
        },
        "id": "k8r87cg5wIN8",
        "outputId": "82a3be5c-8982-4f96-d66b-d3753d45bdea"
      },
      "execution_count": 479,
      "outputs": [
        {
          "output_type": "stream",
          "name": "stdout",
          "text": [
            "Gundala\n"
          ]
        }
      ]
    },
    {
      "cell_type": "markdown",
      "source": [
        "Finding the Index of the Movie"
      ],
      "metadata": {
        "id": "gNFJ_UM7O5hv"
      }
    },
    {
      "cell_type": "code",
      "source": [
        "index_of_the_movie = df2[df2.film_title == close_match]['index'].values[0]\n",
        "print(index_of_the_movie)"
      ],
      "metadata": {
        "colab": {
          "base_uri": "https://localhost:8080/"
        },
        "id": "mWZzDy-QwLWv",
        "outputId": "65a8b69d-bdda-40d3-f985-365414cb2a55"
      },
      "execution_count": 480,
      "outputs": [
        {
          "output_type": "stream",
          "name": "stdout",
          "text": [
            "43\n"
          ]
        }
      ]
    },
    {
      "cell_type": "markdown",
      "source": [
        "Getting a Similiar Movie"
      ],
      "metadata": {
        "id": "sYNytQWMPExH"
      }
    },
    {
      "cell_type": "code",
      "source": [
        "similarity_score = list(enumerate(similarity[index_of_the_movie]))\n",
        "print(similarity_score)"
      ],
      "metadata": {
        "colab": {
          "base_uri": "https://localhost:8080/"
        },
        "id": "Hu67PyoCDC-w",
        "outputId": "0c22cd65-7643-438d-8ceb-08efa4041d54"
      },
      "execution_count": 481,
      "outputs": [
        {
          "output_type": "stream",
          "name": "stdout",
          "text": [
            "[(0, 0.0), (1, 0.0), (2, 0.009471691226787112), (3, 0.141719917240368), (4, 0.0), (5, 0.008499907100580214), (6, 0.010075629352561441), (7, 0.0), (8, 0.0), (9, 0.01225610457878049), (10, 0.0), (11, 0.2851533454368877), (12, 0.0084553208237706), (13, 0.007678277627196752), (14, 0.00980063512082554), (15, 0.0), (16, 0.31784323514962093), (17, 0.0), (18, 0.0), (19, 0.0), (20, 0.0), (21, 0.0), (22, 0.007174697995944869), (23, 0.038854784507694064), (24, 0.5437379311427819), (25, 0.0), (26, 0.010463465824966663), (27, 0.0), (28, 0.009840260454117036), (29, 0.008564624789726728), (30, 0.030671720190499373), (31, 0.0), (32, 0.011540249819174347), (33, 0.008081029714293293), (34, 0.2348883374013486), (35, 0.008931654855392579), (36, 0.03789774480164415), (37, 0.6256991031529139), (38, 0.12765213215833943), (39, 0.008807003050679938), (40, 0.0), (41, 0.008118799080186354), (42, 0.061848082288986736), (43, 1.0), (44, 0.0), (45, 0.08845789555169324), (46, 0.034734392813670995), (47, 0.038854784507694064), (48, 0.0), (49, 0.0), (50, 0.007959327068197559), (51, 0.5171835202775615), (52, 0.009650701344266342), (53, 0.0), (54, 0.0), (55, 0.0), (56, 0.04525603314146891), (57, 0.0), (58, 0.0), (59, 0.006866806362080071), (60, 0.008455547616455993), (61, 0.040930091891201614), (62, 0.061848082288986736), (63, 0.03983362431702341), (64, 0.0), (65, 0.010412493629261348), (66, 0.008974536776246406), (67, 0.0), (68, 0.019251408194593225), (69, 0.0), (70, 0.015632904567474775), (71, 0.045620781172487995), (72, 0.3198712202023508), (73, 0.09891616810733264), (74, 0.18075900342704282), (75, 0.0), (76, 0.036084644250414244), (77, 0.3888145338052977), (78, 0.0), (79, 0.3890504546589846), (80, 0.27409543272207726), (81, 0.0), (82, 0.031245545217618284), (83, 0.009075212126015647), (84, 0.007709017294828137), (85, 0.0), (86, 0.00895299291047443), (87, 0.11334504374072817), (88, 0.15615143328812833), (89, 0.0), (90, 0.008334368620050511), (91, 0.007461650708247548), (92, 0.010651743751950767), (93, 0.046205506891264445), (94, 0.012003586015129858), (95, 0.21611051496967004), (96, 0.37348189053615466), (97, 0.014480249618463571), (98, 0.0), (99, 0.03803357351156888), (100, 0.13197423519469856), (101, 0.0), (102, 0.0), (103, 0.12643862805795594), (104, 0.02488312013130676), (105, 0.0), (106, 0.0), (107, 0.008404890632454672), (108, 0.009840260454117036), (109, 0.3586726736492191), (110, 0.0), (111, 0.0), (112, 0.2091438944814712), (113, 0.0), (114, 0.036872101681776445), (115, 0.012710534767773087), (116, 0.0), (117, 0.0), (118, 0.5826741451881207), (119, 0.0), (120, 0.0), (121, 0.01713098629595754), (122, 0.0), (123, 0.009329428221032873), (124, 0.009433250312115064), (125, 0.11438676539402828), (126, 0.011914500335899084), (127, 0.007837848882401788), (128, 0.0396014124910222), (129, 0.16132693543676954), (130, 0.02285529400237852), (131, 0.009050210306866341), (132, 0.0), (133, 0.1390933548312699), (134, 0.0), (135, 0.033845766720825315), (136, 0.0), (137, 0.24106099871012845), (138, 0.022106627983013268), (139, 0.008950355626730078), (140, 0.0), (141, 0.18891088798630098), (142, 0.007837848882401788), (143, 0.0), (144, 0.04506493916903396), (145, 0.009075212126015647), (146, 0.009840260454117036), (147, 0.006369761366919525), (148, 0.007494093878839295), (149, 0.14539724396687057), (150, 0.1093045828613608), (151, 0.008354788352628503), (152, 0.02943387515390315), (153, 0.03518163277586166), (154, 0.010183459435679132), (155, 0.0), (156, 0.0), (157, 0.00867032493079423), (158, 0.048549241359700936), (159, 0.160385762429823), (160, 0.08525904450204506), (161, 0.19158305550903115), (162, 0.06778254907169476), (163, 0.0), (164, 0.020410883882389947), (165, 0.007837848882401788), (166, 0.03614228285314776), (167, 0.010444573581591359), (168, 0.0), (169, 0.0), (170, 0.007887162677148389), (171, 0.007286098504524355), (172, 0.0), (173, 0.010793508555426119), (174, 0.045620781172487995), (175, 0.03983362431702341), (176, 0.0), (177, 0.009973793879087034), (178, 0.011207888784764582), (179, 0.03401577059268486), (180, 0.0), (181, 0.008761003493304366), (182, 0.10617339601690585), (183, 0.18676074515187832), (184, 0.10511009893172188), (185, 0.010219117789398905), (186, 0.016362541574155565), (187, 0.12182291450803957), (188, 0.008603481921305847), (189, 0.015617854377316689), (190, 0.010463890126259383), (191, 0.0), (192, 0.05046844384922046), (193, 0.0), (194, 0.007887162677148389), (195, 0.12256544901789229), (196, 0.03301493432483201), (197, 0.0), (198, 0.1734439860600067), (199, 0.0), (200, 0.12678502866702132), (201, 0.03467944334594628), (202, 0.0), (203, 0.008736974494413725), (204, 0.008011349779925741), (205, 0.04421767386058557), (206, 0.0), (207, 0.0), (208, 0.0), (209, 0.009471691226787112), (210, 0.0), (211, 0.0079896284991119), (212, 0.011253082384162592), (213, 0.0), (214, 0.037178765028752475), (215, 0.0), (216, 0.09807724913127058), (217, 0.19578760770400486), (218, 0.0), (219, 0.09360122557585439), (220, 0.006813292334870623), (221, 0.0), (222, 0.143640790310074), (223, 0.0), (224, 0.008761003493304364), (225, 0.0), (226, 0.008169877454786666), (227, 0.013865592071994722), (228, 0.15772383615923732), (229, 0.0), (230, 0.24335396888579547), (231, 0.047498102872226125), (232, 0.010112532306973962), (233, 0.0), (234, 0.4422092677983185), (235, 0.03177255948594604), (236, 0.0), (237, 0.0), (238, 0.045782827922740854), (239, 0.18075900342704282), (240, 0.0), (241, 0.0), (242, 0.006758281970877667), (243, 0.00830773591402917), (244, 0.09923088289802035), (245, 0.14897628579139388), (246, 0.0), (247, 0.0), (248, 0.009650701344266342), (249, 0.12666147518227858), (250, 0.049548170398243004), (251, 0.10406589498417838), (252, 0.12303530051240345), (253, 0.0), (254, 0.1266656004107221), (255, 0.00929664829289769), (256, 0.038854784507694064), (257, 0.11582098615116543), (258, 0.0), (259, 0.07714131300114495), (260, 0.12711293315399105), (261, 0.1527508319562518), (262, 0.1243738971620009), (263, 0.009840260454117036), (264, 0.12392486429184685), (265, 0.007878161141036783), (266, 0.05842464378875537), (267, 0.0), (268, 0.36386592900797005), (269, 0.007804612093924103), (270, 0.0), (271, 0.00803063946442478), (272, 0.22657257628836674), (273, 0.0), (274, 0.052636006398689636), (275, 0.006790382058404853), (276, 0.06131986853655476), (277, 0.0), (278, 0.0), (279, 0.0), (280, 0.00867032493079423), (281, 0.2091438944814712), (282, 0.006747685980511477), (283, 0.008270549985288391), (284, 0.0092957448651957), (285, 0.00793838019416201), (286, 0.00862856421800158), (287, 0.008081029714293293), (288, 0.02786186702128925), (289, 0.32697566373402825), (290, 0.0), (291, 0.005842053535335881), (292, 0.010412493629261348), (293, 0.39816731109338166), (294, 0.007774285222833874), (295, 0.009479109880935498), (296, 0.009282332853884634), (297, 0.008790685092642308), (298, 0.04691546579615462), (299, 0.11603434902287585), (300, 0.11787393592476965), (301, 0.17149253248387702), (302, 0.0), (303, 0.0), (304, 0.0), (305, 0.006917816792056031), (306, 0.14909744292615273), (307, 0.17668757782911715), (308, 0.03297113568867372), (309, 0.10364202030500423), (310, 0.008876880203258136), (311, 0.15485119696031432), (312, 0.12109647004757393), (313, 0.034243755993205054), (314, 0.0), (315, 0.042071169692851934), (316, 0.0), (317, 0.02787123654646798), (318, 0.17293527131277064), (319, 0.007975053596218288), (320, 0.04592749366670429), (321, 0.008885494097570616), (322, 0.03830957281355683), (323, 0.19158305550903115), (324, 0.26939791775320093), (325, 0.10048551118433123), (326, 0.2746944584318792), (327, 0.007772719389732417), (328, 0.00853958825803164), (329, 0.028182601489221845), (330, 0.05080268293790002), (331, 0.0), (332, 0.008974536776246406), (333, 0.010305355472905382), (334, 0.2091438944814712), (335, 0.0), (336, 0.007270977518650259), (337, 0.0), (338, 0.016860316594476298), (339, 0.007772483362029717), (340, 0.0), (341, 0.10816000110537986), (342, 0.008902085478652172), (343, 0.16170515026424703), (344, 0.19275238357214466), (345, 0.008733770285075092), (346, 0.05396930642102813), (347, 0.11823127549109615), (348, 0.13435623492528262), (349, 0.0), (350, 0.08882316846298066), (351, 0.008082554309815228), (352, 0.09164430047767173), (353, 0.015361968196322975), (354, 0.013865592071994722), (355, 0.026398456465135382), (356, 0.009174402318881471), (357, 0.23517798894078307), (358, 0.1482573778290278), (359, 0.008857160604060388), (360, 0.143640790310074), (361, 0.008342210920612275), (362, 0.00913529889778467), (363, 0.2571549886321238), (364, 0.24980722923463552), (365, 0.04652671808694947), (366, 0.0), (367, 0.1325422764579104), (368, 0.008499907100580214), (369, 0.008060414665845641)]\n"
          ]
        }
      ]
    },
    {
      "cell_type": "code",
      "source": [
        "len(similarity_score)"
      ],
      "metadata": {
        "colab": {
          "base_uri": "https://localhost:8080/"
        },
        "id": "w8IPGQfzHd16",
        "outputId": "5b8ae51e-f448-4ba6-a7ca-a0f9b384fd79"
      },
      "execution_count": 482,
      "outputs": [
        {
          "output_type": "execute_result",
          "data": {
            "text/plain": [
              "370"
            ]
          },
          "metadata": {},
          "execution_count": 482
        }
      ]
    },
    {
      "cell_type": "markdown",
      "source": [
        "Sorting the Movies Based on Similarity Score\n"
      ],
      "metadata": {
        "id": "iOW7SUOmPRo3"
      }
    },
    {
      "cell_type": "code",
      "source": [
        "sorted_similar_movies = sorted(similarity_score, key = lambda x:x[1], reverse = True) \n",
        "print(sorted_similar_movies)"
      ],
      "metadata": {
        "colab": {
          "base_uri": "https://localhost:8080/"
        },
        "id": "W1By7DhqHg4h",
        "outputId": "e3fea8e5-0174-4b93-f1b3-a6fca19e02cc"
      },
      "execution_count": 483,
      "outputs": [
        {
          "output_type": "stream",
          "name": "stdout",
          "text": [
            "[(43, 1.0), (37, 0.6256991031529139), (118, 0.5826741451881207), (24, 0.5437379311427819), (51, 0.5171835202775615), (234, 0.4422092677983185), (293, 0.39816731109338166), (79, 0.3890504546589846), (77, 0.3888145338052977), (96, 0.37348189053615466), (268, 0.36386592900797005), (109, 0.3586726736492191), (289, 0.32697566373402825), (72, 0.3198712202023508), (16, 0.31784323514962093), (11, 0.2851533454368877), (326, 0.2746944584318792), (80, 0.27409543272207726), (324, 0.26939791775320093), (363, 0.2571549886321238), (364, 0.24980722923463552), (230, 0.24335396888579547), (137, 0.24106099871012845), (357, 0.23517798894078307), (34, 0.2348883374013486), (272, 0.22657257628836674), (95, 0.21611051496967004), (112, 0.2091438944814712), (281, 0.2091438944814712), (334, 0.2091438944814712), (217, 0.19578760770400486), (344, 0.19275238357214466), (161, 0.19158305550903115), (323, 0.19158305550903115), (141, 0.18891088798630098), (183, 0.18676074515187832), (74, 0.18075900342704282), (239, 0.18075900342704282), (307, 0.17668757782911715), (198, 0.1734439860600067), (318, 0.17293527131277064), (301, 0.17149253248387702), (343, 0.16170515026424703), (129, 0.16132693543676954), (159, 0.160385762429823), (228, 0.15772383615923732), (88, 0.15615143328812833), (311, 0.15485119696031432), (261, 0.1527508319562518), (306, 0.14909744292615273), (245, 0.14897628579139388), (358, 0.1482573778290278), (149, 0.14539724396687057), (222, 0.143640790310074), (360, 0.143640790310074), (3, 0.141719917240368), (133, 0.1390933548312699), (348, 0.13435623492528262), (367, 0.1325422764579104), (100, 0.13197423519469856), (38, 0.12765213215833943), (260, 0.12711293315399105), (200, 0.12678502866702132), (254, 0.1266656004107221), (249, 0.12666147518227858), (103, 0.12643862805795594), (262, 0.1243738971620009), (264, 0.12392486429184685), (252, 0.12303530051240345), (195, 0.12256544901789229), (187, 0.12182291450803957), (312, 0.12109647004757393), (347, 0.11823127549109615), (300, 0.11787393592476965), (299, 0.11603434902287585), (257, 0.11582098615116543), (125, 0.11438676539402828), (87, 0.11334504374072817), (150, 0.1093045828613608), (341, 0.10816000110537986), (182, 0.10617339601690585), (184, 0.10511009893172188), (251, 0.10406589498417838), (309, 0.10364202030500423), (325, 0.10048551118433123), (244, 0.09923088289802035), (73, 0.09891616810733264), (216, 0.09807724913127058), (219, 0.09360122557585439), (352, 0.09164430047767173), (350, 0.08882316846298066), (45, 0.08845789555169324), (160, 0.08525904450204506), (259, 0.07714131300114495), (162, 0.06778254907169476), (42, 0.061848082288986736), (62, 0.061848082288986736), (276, 0.06131986853655476), (266, 0.05842464378875537), (346, 0.05396930642102813), (274, 0.052636006398689636), (330, 0.05080268293790002), (192, 0.05046844384922046), (250, 0.049548170398243004), (158, 0.048549241359700936), (231, 0.047498102872226125), (298, 0.04691546579615462), (365, 0.04652671808694947), (93, 0.046205506891264445), (320, 0.04592749366670429), (238, 0.045782827922740854), (71, 0.045620781172487995), (174, 0.045620781172487995), (56, 0.04525603314146891), (144, 0.04506493916903396), (205, 0.04421767386058557), (315, 0.042071169692851934), (61, 0.040930091891201614), (63, 0.03983362431702341), (175, 0.03983362431702341), (128, 0.0396014124910222), (23, 0.038854784507694064), (47, 0.038854784507694064), (256, 0.038854784507694064), (322, 0.03830957281355683), (99, 0.03803357351156888), (36, 0.03789774480164415), (214, 0.037178765028752475), (114, 0.036872101681776445), (166, 0.03614228285314776), (76, 0.036084644250414244), (153, 0.03518163277586166), (46, 0.034734392813670995), (201, 0.03467944334594628), (313, 0.034243755993205054), (179, 0.03401577059268486), (135, 0.033845766720825315), (196, 0.03301493432483201), (308, 0.03297113568867372), (235, 0.03177255948594604), (82, 0.031245545217618284), (30, 0.030671720190499373), (152, 0.02943387515390315), (329, 0.028182601489221845), (317, 0.02787123654646798), (288, 0.02786186702128925), (355, 0.026398456465135382), (104, 0.02488312013130676), (130, 0.02285529400237852), (138, 0.022106627983013268), (164, 0.020410883882389947), (68, 0.019251408194593225), (121, 0.01713098629595754), (338, 0.016860316594476298), (186, 0.016362541574155565), (70, 0.015632904567474775), (189, 0.015617854377316689), (353, 0.015361968196322975), (97, 0.014480249618463571), (227, 0.013865592071994722), (354, 0.013865592071994722), (115, 0.012710534767773087), (9, 0.01225610457878049), (94, 0.012003586015129858), (126, 0.011914500335899084), (32, 0.011540249819174347), (212, 0.011253082384162592), (178, 0.011207888784764582), (173, 0.010793508555426119), (92, 0.010651743751950767), (190, 0.010463890126259383), (26, 0.010463465824966663), (167, 0.010444573581591359), (65, 0.010412493629261348), (292, 0.010412493629261348), (333, 0.010305355472905382), (185, 0.010219117789398905), (154, 0.010183459435679132), (232, 0.010112532306973962), (6, 0.010075629352561441), (177, 0.009973793879087034), (28, 0.009840260454117036), (108, 0.009840260454117036), (146, 0.009840260454117036), (263, 0.009840260454117036), (14, 0.00980063512082554), (52, 0.009650701344266342), (248, 0.009650701344266342), (295, 0.009479109880935498), (2, 0.009471691226787112), (209, 0.009471691226787112), (124, 0.009433250312115064), (123, 0.009329428221032873), (255, 0.00929664829289769), (284, 0.0092957448651957), (296, 0.009282332853884634), (356, 0.009174402318881471), (362, 0.00913529889778467), (83, 0.009075212126015647), (145, 0.009075212126015647), (131, 0.009050210306866341), (66, 0.008974536776246406), (332, 0.008974536776246406), (86, 0.00895299291047443), (139, 0.008950355626730078), (35, 0.008931654855392579), (342, 0.008902085478652172), (321, 0.008885494097570616), (310, 0.008876880203258136), (359, 0.008857160604060388), (39, 0.008807003050679938), (297, 0.008790685092642308), (181, 0.008761003493304366), (224, 0.008761003493304364), (203, 0.008736974494413725), (345, 0.008733770285075092), (157, 0.00867032493079423), (280, 0.00867032493079423), (286, 0.00862856421800158), (188, 0.008603481921305847), (29, 0.008564624789726728), (328, 0.00853958825803164), (5, 0.008499907100580214), (368, 0.008499907100580214), (60, 0.008455547616455993), (12, 0.0084553208237706), (107, 0.008404890632454672), (151, 0.008354788352628503), (361, 0.008342210920612275), (90, 0.008334368620050511), (243, 0.00830773591402917), (283, 0.008270549985288391), (226, 0.008169877454786666), (41, 0.008118799080186354), (351, 0.008082554309815228), (33, 0.008081029714293293), (287, 0.008081029714293293), (369, 0.008060414665845641), (271, 0.00803063946442478), (204, 0.008011349779925741), (211, 0.0079896284991119), (319, 0.007975053596218288), (50, 0.007959327068197559), (285, 0.00793838019416201), (170, 0.007887162677148389), (194, 0.007887162677148389), (265, 0.007878161141036783), (127, 0.007837848882401788), (142, 0.007837848882401788), (165, 0.007837848882401788), (269, 0.007804612093924103), (294, 0.007774285222833874), (327, 0.007772719389732417), (339, 0.007772483362029717), (84, 0.007709017294828137), (13, 0.007678277627196752), (148, 0.007494093878839295), (91, 0.007461650708247548), (171, 0.007286098504524355), (336, 0.007270977518650259), (22, 0.007174697995944869), (305, 0.006917816792056031), (59, 0.006866806362080071), (220, 0.006813292334870623), (275, 0.006790382058404853), (242, 0.006758281970877667), (282, 0.006747685980511477), (147, 0.006369761366919525), (291, 0.005842053535335881), (0, 0.0), (1, 0.0), (4, 0.0), (7, 0.0), (8, 0.0), (10, 0.0), (15, 0.0), (17, 0.0), (18, 0.0), (19, 0.0), (20, 0.0), (21, 0.0), (25, 0.0), (27, 0.0), (31, 0.0), (40, 0.0), (44, 0.0), (48, 0.0), (49, 0.0), (53, 0.0), (54, 0.0), (55, 0.0), (57, 0.0), (58, 0.0), (64, 0.0), (67, 0.0), (69, 0.0), (75, 0.0), (78, 0.0), (81, 0.0), (85, 0.0), (89, 0.0), (98, 0.0), (101, 0.0), (102, 0.0), (105, 0.0), (106, 0.0), (110, 0.0), (111, 0.0), (113, 0.0), (116, 0.0), (117, 0.0), (119, 0.0), (120, 0.0), (122, 0.0), (132, 0.0), (134, 0.0), (136, 0.0), (140, 0.0), (143, 0.0), (155, 0.0), (156, 0.0), (163, 0.0), (168, 0.0), (169, 0.0), (172, 0.0), (176, 0.0), (180, 0.0), (191, 0.0), (193, 0.0), (197, 0.0), (199, 0.0), (202, 0.0), (206, 0.0), (207, 0.0), (208, 0.0), (210, 0.0), (213, 0.0), (215, 0.0), (218, 0.0), (221, 0.0), (223, 0.0), (225, 0.0), (229, 0.0), (233, 0.0), (236, 0.0), (237, 0.0), (240, 0.0), (241, 0.0), (246, 0.0), (247, 0.0), (253, 0.0), (258, 0.0), (267, 0.0), (270, 0.0), (273, 0.0), (277, 0.0), (278, 0.0), (279, 0.0), (290, 0.0), (302, 0.0), (303, 0.0), (304, 0.0), (314, 0.0), (316, 0.0), (331, 0.0), (335, 0.0), (337, 0.0), (340, 0.0), (349, 0.0), (366, 0.0)]\n"
          ]
        }
      ]
    },
    {
      "cell_type": "code",
      "source": [
        "print('Movies suggested for you : \\n')\n",
        "i = 1\n",
        "\n",
        "for movie in sorted_similar_movies:\n",
        "  index = movie[0]\n",
        "  title_from_index = df2[df2.index==index]['film_title'].values[0]\n",
        "\n",
        "  if (i<=20):\n",
        "    print(i, '.',title_from_index)\n",
        "    i+=1"
      ],
      "metadata": {
        "colab": {
          "base_uri": "https://localhost:8080/"
        },
        "id": "LXHzqqTUHkag",
        "outputId": "c2c215dc-cf70-4cf2-fca2-f2ea09ce8069"
      },
      "execution_count": 486,
      "outputs": [
        {
          "output_type": "stream",
          "name": "stdout",
          "text": [
            "Movies suggested for you : \n",
            "\n",
            "1 . Gundala\n",
            "2 . Headshot\n",
            "3 . Promise\n",
            "4 . I Love You Baby\n",
            "5 . HEART\n",
            "6 . The Raid\n",
            "7 . Ada Apa Dengan Cinta 2\n",
            "8 . The Raid 2: Berandal\n",
            "9 . The Moon Embracing the Sun\n",
            "10 . What's Wrong with Secretary Kim\n",
            "11 . Serigala Terakhir\n",
            "12 . Gie\n",
            "13 . 10 x 10\n",
            "14 . Stand by Me Doraemon\n",
            "15 . Legend of the Blue Sea\n",
            "16 . Black Dog\n",
            "17 . This Is Cinta\n",
            "18 . Pendekar Tongkat Emas\n",
            "19 . Get Married 3\n",
            "20 . Penari Malam\n"
          ]
        }
      ]
    },
    {
      "cell_type": "code",
      "source": [
        "movie_name = input(' Enter your favourite movie name : ')\n",
        "\n",
        "list_of_all_titles = df2['film_title'].tolist()\n",
        "\n",
        "find_close_match = difflib.get_close_matches(movie_name, list_of_all_titles)\n",
        "\n",
        "close_match = find_close_match[0]\n",
        "\n",
        "index_of_the_movie = df2[df2.film_title == close_match]['index'].values[0]\n",
        "\n",
        "similarity_score = list(enumerate(similarity[index_of_the_movie]))\n",
        "\n",
        "sorted_similar_movies = sorted(similarity_score, key = lambda x:x[1], reverse = True) \n",
        "\n",
        "print('Movies suggested for you : \\n')\n",
        "\n",
        "i = 1\n",
        "\n",
        "for movie in sorted_similar_movies:\n",
        "  index = movie[0]\n",
        "  title_from_index = df2[df2.index==index]['film_title'].values[0]\n",
        "  if (i<=20):\n",
        "    print(i, '.',title_from_index)\n",
        "    i+=1"
      ],
      "metadata": {
        "colab": {
          "base_uri": "https://localhost:8080/"
        },
        "id": "RC5ITCKoHsF-",
        "outputId": "583a68cb-fc57-4573-d154-d1d02074b875"
      },
      "execution_count": 487,
      "outputs": [
        {
          "output_type": "stream",
          "name": "stdout",
          "text": [
            " Enter your favourite movie name : gundala\n",
            "Movies suggested for you : \n",
            "\n",
            "1 . Gundala\n",
            "2 . Headshot\n",
            "3 . Promise\n",
            "4 . I Love You Baby\n",
            "5 . HEART\n",
            "6 . The Raid\n",
            "7 . Ada Apa Dengan Cinta 2\n",
            "8 . The Raid 2: Berandal\n",
            "9 . The Moon Embracing the Sun\n",
            "10 . What's Wrong with Secretary Kim\n",
            "11 . Serigala Terakhir\n",
            "12 . Gie\n",
            "13 . 10 x 10\n",
            "14 . Stand by Me Doraemon\n",
            "15 . Legend of the Blue Sea\n",
            "16 . Black Dog\n",
            "17 . This Is Cinta\n",
            "18 . Pendekar Tongkat Emas\n",
            "19 . Get Married 3\n",
            "20 . Penari Malam\n"
          ]
        }
      ]
    },
    {
      "cell_type": "code",
      "source": [
        "import pickle"
      ],
      "metadata": {
        "id": "-7omGp-7mvU_"
      },
      "execution_count": 488,
      "outputs": []
    },
    {
      "cell_type": "code",
      "source": [
        "pickle.dump(df2,open(\"movie_recm.pkl\",\"wb\"))\n",
        "pickle.dump(similarity,open(\"similarity.pkl\",\"wb\"))"
      ],
      "metadata": {
        "id": "cYmz7WU2mx5D"
      },
      "execution_count": 491,
      "outputs": []
    },
    {
      "cell_type": "code",
      "source": [
        "np.array(df2[\"film_title\"])"
      ],
      "metadata": {
        "colab": {
          "base_uri": "https://localhost:8080/"
        },
        "id": "VmdoVlihnQpd",
        "outputId": "b4e3e764-51e4-43b8-dc2a-1155c68af246"
      },
      "execution_count": 490,
      "outputs": [
        {
          "output_type": "execute_result",
          "data": {
            "text/plain": [
              "array(['Samudra Cinta', 'Anak Langit', 'Kawin Kontrak Pembawa Cinta',\n",
              "       'He is Psychometric', 'Cinta Karena Cinta', 'Tiba Tiba Cinta',\n",
              "       'Resep Cinta Kopi Cincau', 'Essential: Lesty Kejora',\n",
              "       'Magic Tumbler', 'Islam KTP', 'Cinta Misteri', 'Black Dog',\n",
              "       'Ganteng Ganteng Serigala', 'Antara Suami Kaya Atau Setia',\n",
              "       'The Secret Hotel', 'Cinta Anak Muda', 'Legend of the Blue Sea',\n",
              "       'Jangan Panggil Gue Pak Haji', 'Essential: Nella Kharisma',\n",
              "       'Cinta dan Kesetiaan', 'Detak Cinta', 'Drakula Cantik',\n",
              "       'Salahkah Aku Karena Menikah Di Usia Muda', 'Reply 1988',\n",
              "       'I Love You Baby', 'Siapa Takut Jatuh Cinta', 'Cinta Dua Hati',\n",
              "       \"Essential: D'MASIV\", 'Energi Cinta Cinderella Matre',\n",
              "       'My Wife Anak Geng Motor', 'Marriage, Not Dating', 'LIPUTAN6.COM',\n",
              "       'Love in Paris', 'We Bare Bears',\n",
              "       'Weightlifting Fairy Kim Bok-joo', 'Ketika Selamet Jadi Tajir',\n",
              "       '252 Signal of Life', 'Headshot', 'Akibat Hamil Muda',\n",
              "       'Kepincut Babang Ojek Tamvan', 'Essential: Nidji',\n",
              "       \"Neng Supir Aku Tanpamu I'Mbyar\", 'Blindness', 'Gundala',\n",
              "       'Essentials: Virgoun',\n",
              "       'Cintaku di Top Up Sampai Unlimited  | FTV SCTV',\n",
              "       'Girls in The City', 'Still 17', 'Essential: Noah',\n",
              "       'Mawar Dan Melati', 'Dulu Sahabatku Sekarang Jadi Maduku', 'HEART',\n",
              "       'Demo Cinta Nona Florist', 'Fimela: Zodiak', 'Essential: Fildan',\n",
              "       'Cinta Buta', 'Dr. Romantic', 'Essential: Iwan Fals', 'Boy',\n",
              "       'Jangan Bikin Cintaku Sebatas Teman Tanpa Kepastian',\n",
              "       'Konon Katanya Cinta Itu Buta', 'The Great Show', 'Babel',\n",
              "       'Hotel King', 'Dua Wanita Cantik', 'Para Pencari Tuhan',\n",
              "       'Cintaku Bernafas Dalam Bubur', 'Heart Series',\n",
              "       'Ganteng-Ganteng Serigala Returns', 'Essential: Rossa',\n",
              "       'Terlanjur Cinta', 'The Inheritors', 'Stand by Me Doraemon',\n",
              "       'The Legend of Bruce Lee', 'Destruction: Los Angeles',\n",
              "       'Cinta Suci', \"The Master's Sun\", 'The Moon Embracing the Sun',\n",
              "       'Essential: Zaskia Gotik', 'The Raid 2: Berandal',\n",
              "       'Pendekar Tongkat Emas', 'Alphabet',\n",
              "       'I Fine... Thank You, Love You',\n",
              "       'Bodyguard Ganteng Cewek Primadona',\n",
              "       'Unboxing Rahasia Cinta Rumah No 29', 'Sodrun Merayu Tuhan',\n",
              "       'Warm and Cozy', 'The K2', 'The Good Wife',\n",
              "       'Essential : Via Vallen', 'Seblak Empire Hentikan Ledakan Cinta',\n",
              "       'Resep Rahasia Gado-Gado Cinta', 'Dua Dunia Salma', 'Pinocchio',\n",
              "       'Hours Web Series', 'Surat Cinta Untuk Starla',\n",
              "       \"What's Wrong with Secretary Kim\",\n",
              "       'Crazy Little Things Called Love', 'Orang Ketiga', 'About Time',\n",
              "       'On The Weekend', 'Jodoh Yang Tertukar', 'Seleb', 'GET MARRIED',\n",
              "       'Kill Me, Heal Me', 'Full Highlights UEFA Champions League',\n",
              "       'Mermaid in Love 2 Dunia', 'Banyak Jalan Menuju Rhoma',\n",
              "       'Cinta Ambyar Sobat Meong', 'Gie', 'Lupus Milenia',\n",
              "       'La Liga Spanyol', 'Taken', 'Heart Series 2', 'The Gang Doctor',\n",
              "       'Get Married The Series', 'Topeng Kaca', 'Sayap Pelindungmu',\n",
              "       'Promise', 'BERITA KRIMINAL', 'Essential: Slank', 'Rain',\n",
              "       'Penakluk Hati', 'Dari Donor Jadi Demen', 'Antar Aku Ke KUA',\n",
              "       \"What They Don't Talk About When They Talk About Love\",\n",
              "       'Cinta yang Sama', 'Milyader Kece dengan Kearifan Lokal',\n",
              "       'Princess Hours', 'Love Story', 'Coffee Prince',\n",
              "       'Asisten Boss Kenalan Jangan', 'Gadis Pemimpi', 'The Thieves',\n",
              "       'High School Love Story', 'Oh My Ghost', 'BUSER INVESTIGASI',\n",
              "       'The Player', 'Tomorrow With You', 'Perempuan Dalam Sangkar Emas',\n",
              "       'Istri Istri Akhir Zaman', 'Heart',\n",
              "       'Menantu Bayaran Bikin Salfok Duniaku',\n",
              "       'Kutukan Cinta Sang Bintang', 'Movie Talk',\n",
              "       'Terlalu Baper Untuk Dilupakan', 'Racikan Cinta Mas Jamu',\n",
              "       'Apakah Karena Aku Janda Lalu Bisa Difitnah Seenaknya',\n",
              "       'Sobat Ambyar Jadi Saksi Nikah Kita', 'Romeo + Rinjani',\n",
              "       '100 Days My Prince', 'Cunning Single Lady',\n",
              "       'Ek- the Power of One', \"I'm Not a Robot\", 'Tukang Sayur Reborn',\n",
              "       'Aku Bukan Anak Haram', 'PSS SLEMAN', 'Inem Asisten Seksi Repot',\n",
              "       'Whip It', 'Catch the Ghost', 'Shaolin Grandma', 'Virgin',\n",
              "       'Mother', 'Cinta Kedua', 'Kindergarten War',\n",
              "       'Sad Boy Mohon Doa Restu', 'Gangs of New York',\n",
              "       'Resep Cinta Bikin Romantis', 'Love is Pink', 'Magic Cinta',\n",
              "       'Jomblo Ngenes Anti Galau | FTV SCTV',\n",
              "       'Warkop DKI Reborn Jangkrik Boss! Part: 1', 'PS TIRA PERSIKABO',\n",
              "       'Revolutionary Love', 'The Rebel', 'Good Witch',\n",
              "       'Essential: Virzha', 'Cewe Matre Kasmaran', 'KapanLagi Challenge',\n",
              "       'Touch Your Heart', 'Essential: Siti Badriah',\n",
              "       'Kezel Sih Tapi Rindu', 'Perempuan Berkalung Sorban', 'Saur Sepuh',\n",
              "       'W – Two Worlds', 'Comeback Sang Mantan', \"My Best Friend's Girl\",\n",
              "       'Petualangan Sherina', 'Operasi Tangkap Cinta Cewek Skuter',\n",
              "       'Dr. T and the Women', 'Penjaga Hati', 'Malaikat Cinta',\n",
              "       'Friendship', 'PERSIPURA JAYAPURA',\n",
              "       'Resep Maknyus Ala Chef Syantik', 'The Cursed',\n",
              "       'Partners For Justice', 'NEWS360', 'Tentang Cinta',\n",
              "       'Pedang Naga Puspa', 'Da Vinci - Last Chance To See',\n",
              "       'My Secret Terrius', 'Super ABG', 'Mas Paijo Bukan Pengemis Cinta',\n",
              "       'Demi Kamu Aku Kudu Setrong', 'My Princess', 'MERDEKA.COM',\n",
              "       \"D'Hijabers\", '3 Semprul Mengejar Surga 4',\n",
              "       'Cinta Pada Gigitan Pertama', 'MADURA UNITED',\n",
              "       'Pacarku Sang Juara No 27', 'Setangkai Rambutan Cinta', 'Jo & Jay',\n",
              "       'Emergency Couple', 'KapanLagi Kepo', 'Super Didi',\n",
              "       'Mau dong... ah', 'AREMA FC', 'Bangkok Adrenalin',\n",
              "       'Kepincut Cinta Ksatria Gado-Gado Bergitar', 'Kiamat Hari Jumat',\n",
              "       'Basahhh', 'Essential: Wali', 'Si Manis Juragan Nanas',\n",
              "       'Essential: Sheryl Sheinafia',\n",
              "       'Abang Ojek Hampir Macho | FTV SCTV', 'MONYET CANTIK 2',\n",
              "       'Sang Penari', 'Cinta Yang Tertukar', 'Coklat Stroberi',\n",
              "       'Midnight My Love', 'Pembantu Penawar Rindu', 'Duyung Cilik',\n",
              "       'The Raid', 'Switch: Change the World', 'Cantik-Cantik Magic',\n",
              "       'Prince Charming', 'Seven Something', 'Destruction: Las Vegas',\n",
              "       'PERSIJA JAKARTA', 'Istri untuk Papaku',\n",
              "       'Cinta Bersemi di Putih Abu-Abu', '30 Hari Magang Jadi Pacar',\n",
              "       'BBC - Earthflight', 'Filosofi Kopi', 'Essential: Naff',\n",
              "       'Berkah Cinta', 'Mengejar Cinta? Siap Bosque!', 'Ada Cinta di SMA',\n",
              "       'Missing 9', 'Wushu The Next Generation', 'AKU KAU dan KUA',\n",
              "       'Piala AFF U-15 2019', 'Galih dan Ratna',\n",
              "       'Preman Sadis Jadi Romantis', 'Sky Castle', 'She Was Pretty',\n",
              "       'Haji Belajar Ngaji', 'Chai Lai Angels', 'Ada Apa dengan Cinta?',\n",
              "       'Radit dan Jani', 'Get Married', 'Gadis +62 Lupa Cinta',\n",
              "       'Pengakuan Seorang Pelacur', 'Her Private Life', 'Ali',\n",
              "       'Guru Rock n Love', 'Serigala Terakhir',\n",
              "       'Biar Tak Seumur Cinta Pantang Mundur', 'Putri Titipan Tuhan',\n",
              "       'Ratu Diskon Cintanya Limited Edition', 'One Fine Day',\n",
              "       'SEMEN PADANG FC', 'A Werewolf Boy',\n",
              "       'Sama Sama Cinta Yuk Nikah Aja', 'Twilight', 'Essential: Sherina',\n",
              "       'KLY Lounge', 'Kekasih Bayangan', 'Pantang Pulang Sebelum Jadian',\n",
              "       'Daybreakers', 'Cinta Miss Angkot Bukan Kaleng Kaleng',\n",
              "       'Boyfriend Kiriman Dari Surga | FTV SCTV',\n",
              "       'Ratu Diskon Dikorting Rindu',\n",
              "       'Terobos Palang Kereta 2 Orang Baper',\n",
              "       'Jurus Putus Cinta Pipel +62', 'Abang Bajaj vs Neng Pecel',\n",
              "       'Shaadi Mein Zaroor Aana', '10 x 10', 'Cinderella',\n",
              "       'While You Were Sleeping', 'SI BIANG KEROK',\n",
              "       'Ada Apa Dengan Cinta 2', 'Without You Aku Mah Apa Atuh',\n",
              "       'Cintaku Semerbak di Florist', 'Jodohku di Bengkel Motor',\n",
              "       'Seharum Bunga Cinta Ratu Ayu', 'Dear John', 'Crank',\n",
              "       'Courage the Cowardly Dog', 'Relationshit', 'Merindu Baginda Nabi',\n",
              "       'Popcorn', 'PS BARITO PUTERA',\n",
              "       'Cinta Penjual Ayam Geprek Level Lima Maknyos', 'Get Married 2',\n",
              "       'Anda Puas, Saya Loyo', 'Another Miss Oh',\n",
              "       'Kukejar Cinta ke Negeri Cina', 'Ramuan Cinta Miss Jamu Glowing',\n",
              "       'The Cured', 'Live Up To Your Name', 'Search: WWW',\n",
              "       'Tiada Hari Yang Tak Indah', 'The Twilight Saga: Eclipse',\n",
              "       'Anak Masjid', 'La Reina del Flow', 'The Grand Heist',\n",
              "       'Emak Ijah Pengen Ke Mekah', 'Kenka Bancho 1',\n",
              "       'Ratu Selendang Mayang Sejagat', 'The Twilight Saga New Moon',\n",
              "       'Virgin 2', 'Get Married 3', 'Teen Patti', 'This Is Cinta',\n",
              "       'Negeri Ini Butuh Sate Klopo', 'Click Bait Cinta si Tinggi',\n",
              "       'My Contracted Husband, Mr.Oh', 'One Day', 'Essential: Ungu',\n",
              "       'Cewek Kalong Pacaran, Yuk', 'Ratu Montir Sejagad', 'Momentum',\n",
              "       'Essential: Afgan', 'Pecahkan Saja Hati Mika Biar Ramai',\n",
              "       'Julaiha Princess Betawi', 'Bangkok Traffic (Love) Story',\n",
              "       'Children of the 20 Century', 'Fimela: Personal Style',\n",
              "       'The Punisher', 'Abang Sayur Eneng Sayang', 'Cold Eyes',\n",
              "       'Secretary', 'Gita Cinta Romli dan Juleha', 'The Duchess',\n",
              "       'The Fabulous Udin', '3 Hari untuk Selamanya', 'VIVA NEWS',\n",
              "       'Because This Is My First Life', 'Zee Bioskop Catch Up',\n",
              "       'Mercury Man', 'Ramuan Cinta', 'MONYET CANTIK',\n",
              "       'Goodbye to Goodbye', 'Bunga Cinta Bersemi Di Bengkel',\n",
              "       'The Ghost Writer', 'Bewafaa', 'Gasanggup Akutu Mba Angkot',\n",
              "       'YouTubers', 'Pacar Gue Bukan Cewek Gedongan', 'Sopir dan Majikan',\n",
              "       'Penari Malam', 'Cek Toko Sebelah', 'Company', 'Pink Angel',\n",
              "       'The Tarix Jabrix 3', 'Kue Thok Cinta DP 0 Rupiah',\n",
              "       'Digombalin Miss Kecambah, Auto Baper'], dtype=object)"
            ]
          },
          "metadata": {},
          "execution_count": 490
        }
      ]
    }
  ]
}